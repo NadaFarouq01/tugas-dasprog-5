{
 "cells": [
  {
   "cell_type": "markdown",
   "metadata": {
    "deletable": false,
    "editable": false,
    "id": "Ra5L6LVen_2H"
   },
   "source": [
    "<h1>Input</h1>\n",
    "\n",
    "Input terdiri dari 2 jenis yaitu\n",
    "<ol>\n",
    "    <li>Statis (Hardcode)</li>\n",
    "    <li>Dinamis</li>\n",
    "</ol>\n",
    "        \n",
    "Input secara statis adalah memberikan nilai kepada variabel secara langsung pada kode program<br>\n",
    "Misal:\n",
    "```python\n",
    "hari = \"Minggu\"\n",
    "tanggal = 21\n",
    "bulan = \"Oktober\"\n",
    "tahun = \"2021\"\n",
    "```\n",
    "Sedangkan input secara dinamis yaitu program menunggu input dari user dimana kursor akan menjadi mode teks dan berkedip-kedip. Input secara dinamis menggunakan fungsi <b>input(s)</b> dimana <b>s</b> adalah string label sebagai keterangan. Berikut ini adalah contoh input dinamis\n",
    "```python\n",
    "matakuliah_1 = input('Mata kuliah 1 yang diambil : ')\n",
    "matakuliah_2 = input('Mata kuliah 2 yang diambil : ')\n",
    "print(f\"Anda mengambil mata kuliah  {matakuliah_1} dan {matakuliah_2}\")\n",
    "```\n",
    "<h3>Latihan</h3>\n",
    "<ol>\n",
    "    <li>Buatlah variabel dengan nama hobi, yang digunakan untuk menampung input dari user dengan label \"Hobi kamu apa? : \" , kemudian Cetaklah dengan label <b>Hobi kamu : {hobi}</b></li>\n",
    "    <li>Buatlah variabel nama, yang digunakan untuk menampung input dari user dengan label \"Siapa nama kamu? : \" , misal user mengisikan nama \"Romi\" maka akan tampil output <b>Nama kamu berawalan huruf R</b></li>\n",
    "</ol>"
   ]
  },
  {
   "cell_type": "markdown",
   "metadata": {
    "id": "yNkwDbMCFbWl"
   },
   "source": [
    "# New Section"
   ]
  },
  {
   "cell_type": "code",
   "execution_count": 10,
   "metadata": {
    "colab": {
     "base_uri": "https://localhost:8080/"
    },
    "executionInfo": {
     "elapsed": 17472,
     "status": "ok",
     "timestamp": 1668862825686,
     "user": {
      "displayName": "RAFLY NUR RIVANDI",
      "userId": "18171384407586656743"
     },
     "user_tz": -420
    },
    "id": "rrS54OmYn_2M",
    "outputId": "68818288-bb51-4247-9c47-ccdec5696b67"
   },
   "outputs": [
    {
     "name": "stdout",
     "output_type": "stream",
     "text": [
      "===========Hobi=============\n",
      "Hobi kamu apa? :hiking\n",
      "Hobi kamu hiking\n",
      "==========Selesai===========\n",
      "=====Menentukan Variabel R============\n",
      "Siapa nama kamu :Nada Farouq\n",
      "Nama kamu berawalan huruf N\n"
     ]
    }
   ],
   "source": [
    "#Code here\n",
    "print(\"===========Hobi=============\")\n",
    "hobi = input('Hobi kamu apa? :')\n",
    "print(f\"Hobi kamu {hobi}\")\n",
    "print(\"==========Selesai===========\")\n",
    "\n",
    "print(\"=====Menentukan Variabel R============\")\n",
    "nama = input('Siapa nama kamu :')\n",
    "print(f\"Nama kamu berawalan huruf {nama[0]}\")"
   ]
  },
  {
   "cell_type": "markdown",
   "metadata": {
    "id": "7KNN5tK3n_2N"
   },
   "source": [
    "<details>\n",
    "    <summary><font color=\"red\">Click Here </font> to See the Answer No.1</summary>\n",
    "\n",
    "Jawaban No. 1\n",
    "    \n",
    "```python\n",
    "hobi = input('Hobi kamu apa? :')\n",
    "print(f\"Hobi kamu {hobi}\")\n",
    "```\n",
    "</details>"
   ]
  },
  {
   "cell_type": "markdown",
   "metadata": {
    "id": "HzEpJtCRn_2O"
   },
   "source": [
    "<details>\n",
    "    <summary><font color=\"red\">Click Here </font> to See the Answer No.2</summary>\n",
    "\n",
    "Jawaban No. 2\n",
    "    \n",
    "```python\n",
    "nama = input('Siapa nama kamu :')\n",
    "print(f\"Nama kamu berawalan huruf {nama[0]}\")\n",
    "```\n",
    "</details>"
   ]
  },
  {
   "cell_type": "markdown",
   "metadata": {
    "id": "WVjZZMS_n_2P"
   },
   "source": [
    "<h1>Random Bilangan</h1>\n",
    "\n",
    "Nilai Random adalah sebuah nilai acak yang dibangkitkan dari pseudocode acak, tapi hal tersebut tidak benar-benar acak. bagaimana mungkin mendapatkan nilai acak, jika masih menggunakan alur program. Random pada python dapat menghasilkan nilai berupa integer, float maupun string.\n",
    "Untuk membuat Random value maka dapat menggunakan fungsi <b>random</b>. Sebelum fungsi <b>random</b> digunakan, maka terlebih dahulu harus melakukan import library. Perhatikan contoh berikut ini:\n",
    "\n",
    "<h3>Random Float</h3>\n",
    "\n",
    "```python\n",
    "# mengimport library random\n",
    "from random import random\n",
    "# mengacak bilangan float\n",
    "nilai = random()\n",
    "# mencetak bilangan random\n",
    "print(nilai)\n",
    "```\n",
    "\n",
    "<h3>Random Integer</h3>\n",
    "\n",
    "```python\n",
    "# mengimport library random\n",
    "from random import randint\n",
    "# mengacak bilangan integer dengan range 0-10\n",
    "nilai = randint(0,10)\n",
    "# mencetak bilangan random\n",
    "print(nilai)\n",
    "```\n",
    "<h3>Random Choice</h3>\n",
    "\n",
    "```python\n",
    "from random import choice\n",
    " \n",
    "# list of month\n",
    "bulan = [\"Jan\", \"Feb\", \"Mar\", \"Apr\", \"May\",\"Jun\",\"Jul\",\"Aug\",\"Sep\",\"Oct\",\"Nov\",\"Des\"]\n",
    " \n",
    "# memilih dari list scr acak\n",
    "pilih_bulan = choice(bulan)\n",
    "print(pilih_bulan)\n",
    "```\n",
    "\n",
    "<h3>Latihan</h3>\n",
    "\n",
    "<ol>\n",
    "    <li>Buatlah program tebak hasil dari perkalian dari 2 angka dari 0 sampai 100, jika user menjawab benar maka tampil <b>Jawaban anda True</b> dan jika salah, maka akan tampil <b>Jawaban anda False</b></li>\n",
    "</ol>"
   ]
  },
  {
   "cell_type": "code",
   "execution_count": 13,
   "metadata": {
    "colab": {
     "base_uri": "https://localhost:8080/"
    },
    "executionInfo": {
     "elapsed": 14638,
     "status": "ok",
     "timestamp": 1668137424021,
     "user": {
      "displayName": "Lupusmlbb",
      "userId": "18339227963392725119"
     },
     "user_tz": -420
    },
    "id": "9v0F2126n_2P",
    "outputId": "b2fe0145-8a95-44bc-bd13-e2b0db0cd359"
   },
   "outputs": [
    {
     "name": "stdout",
     "output_type": "stream",
     "text": [
      "Berapa hasil perkalian dari 26 dan 94 ? = 2444\n",
      "Jawaban anda True\n"
     ]
    }
   ],
   "source": [
    "#Code Here\n",
    "from random import randint\n",
    "\n",
    "nilai1 = randint(0,100)\n",
    "nilai2 = randint(0,100)\n",
    "hasil = nilai1 * nilai2\n",
    "\n",
    "jawab = int(input(\"Berapa hasil perkalian dari {} dan {} ? = \".format(nilai1,nilai2)))\n",
    "print(\"Jawaban anda {}\".format(jawab==hasil))"
   ]
  },
  {
   "cell_type": "markdown",
   "metadata": {
    "id": "i758umhO9jvV"
   },
   "source": [
    "# New Section"
   ]
  },
  {
   "cell_type": "markdown",
   "metadata": {
    "id": "HmxqT0mg_lcj"
   },
   "source": [
    "# New Section"
   ]
  },
  {
   "cell_type": "markdown",
   "metadata": {
    "id": "3_bILnJ9_mRB"
   },
   "source": [
    "# New Section"
   ]
  },
  {
   "cell_type": "code",
   "execution_count": 14,
   "metadata": {
    "colab": {
     "base_uri": "https://localhost:8080/"
    },
    "executionInfo": {
     "elapsed": 416,
     "status": "ok",
     "timestamp": 1668137559520,
     "user": {
      "displayName": "Lupusmlbb",
      "userId": "18339227963392725119"
     },
     "user_tz": -420
    },
    "id": "HcnGSRhtn_2R",
    "outputId": "6e9aa037-d6a9-47ff-e8ab-dab348f4ef19"
   },
   "outputs": [
    {
     "name": "stdout",
     "output_type": "stream",
     "text": [
      "Emoji Yang Muncul :😀\n",
      "Emoji Yang Muncul :🙂\n",
      "Emoji Yang Muncul :😉\n",
      "Emoji Yang Muncul :🤐\n",
      "Emoji Yang Muncul :🤣\n"
     ]
    }
   ],
   "source": [
    "#Code here\n",
    "print(\"Emoji Yang Muncul :\\N{grinning face}\")\n",
    "print(\"Emoji Yang Muncul :\\N{slightly smiling face}\")\n",
    "print(\"Emoji Yang Muncul :\\N{winking face}\")\n",
    "print(\"Emoji Yang Muncul :\\N{zipper-mouth face}\")\n",
    "print(\"Emoji Yang Muncul :\\N{rolling on the floor laughing}\")"
   ]
  },
  {
   "cell_type": "markdown",
   "metadata": {
    "id": "yuL8K1Cyn_2S"
   },
   "source": [
    "<h1>String</h1>\n",
    "String adalah kumpulan dari beberapa karakter. String dibuat dengan tanda petik tunggal (') atau ganda (\")\n",
    "Contoh:\n",
    "\n",
    "```python\n",
    "kota ='Surabaya'\n",
    "provinsi ='Jawa Timur'\n",
    "```\n",
    "Karena string tersusun dari kumpulan karakter, maka string dapat diambil per karakternya menggunakan index yang diapit oleh kurung siku [] atau dengan range [indeks-awal:indeks-akhir]\n",
    "Contoh:\n",
    "```python\n",
    "kalimat = 'Apa kabar semua hari ini?'\n",
    "print(kalimat[0]) #A\n",
    "print(kalimat[1]) #p\n",
    "print(kalimat[0:3]) #Apa\n",
    "print(kalimat[4:9]) #kabar\n",
    "print(kalimat[:-10]) #Apa kabar semua\n",
    "print(kalimat[-9:]) #hari ini?\n",
    "print(kalimat[-15:-5]) #semua hari\n",
    "```\n",
    "<h3>Latihan</h3>\n",
    "Jika terdapat sebuah string <b>Belajar Pemrograman Python</b> Maka tampilkan <b>output</b> berikut ini menggunakan fungsi <b>print</b><br>\n",
    "<ol>\n",
    "    <li>Belajar</li>\n",
    "    <li>ajar</li>\n",
    "    <li>Pemrograman</li>\n",
    "    <li>gram</li>\n",
    "    <li>Python</li>\n",
    "    <li>Py</li>\n",
    "    <li>gram Python</li>\n",
    "    <li>Pemrograman Python</li>\n",
    "</ol>\n"
   ]
  },
  {
   "cell_type": "code",
   "execution_count": 15,
   "metadata": {
    "colab": {
     "base_uri": "https://localhost:8080/"
    },
    "executionInfo": {
     "elapsed": 336,
     "status": "ok",
     "timestamp": 1668138939687,
     "user": {
      "displayName": "Lupusmlbb",
      "userId": "18339227963392725119"
     },
     "user_tz": -420
    },
    "id": "0-rqO9z2n_2S",
    "outputId": "fdbeb158-39c9-4edc-c795-965612cd1f22"
   },
   "outputs": [
    {
     "name": "stdout",
     "output_type": "stream",
     "text": [
      "1.Kata Yang Keluar Adalah: Belajar\n",
      "2.Kata Yang Keluar Adalah: ajar\n",
      "3.Kata Yang Keluar Adalah: Pemrograman \n",
      "4.Kata Yang Keluar Adalah: gram\n",
      "5.Kata Yang Keluar Adalah: Python\n",
      "6.Kata Yang Keluar Adalah: Py\n",
      "7.Kata Yang Keluar Adalah: gram Python\n",
      "8.Kata Yang Keluar Adalah: Pemrograman Python\n"
     ]
    }
   ],
   "source": [
    "#Code here\n",
    "kata = \"Belajar ajar Pemrograman gram Python Py gram Python Pemrograman Python\"\n",
    "print(\"1.Kata Yang Keluar Adalah:\",kata[0:7])\n",
    "print(\"2.Kata Yang Keluar Adalah:\",kata[8:12])\n",
    "print(\"3.Kata Yang Keluar Adalah:\",kata[13:25])\n",
    "print(\"4.Kata Yang Keluar Adalah:\",kata[25:29])\n",
    "print(\"5.Kata Yang Keluar Adalah:\",kata[30:36])\n",
    "print(\"6.Kata Yang Keluar Adalah:\",kata[37:39])\n",
    "print(\"7.Kata Yang Keluar Adalah:\",kata[40:51])\n",
    "print(\"8.Kata Yang Keluar Adalah:\",kata[-18:])"
   ]
  },
  {
   "cell_type": "markdown",
   "metadata": {
    "id": "-HZf-C2Gn_2T"
   },
   "source": [
    "<h1>String Method</h1>\n",
    "String mempunyai banyak method yang dapat digunakan untuk mempercepat menyelesaikan permasalahan, diantaranya adalah:\n",
    "<h3>Upper</h3>\n",
    "Fungsi upper digunakan untuk mengubah string menjadi huruf kapital. Fungsi tersebut tidak memerlukan parameter/argumen \n",
    "\n",
    "```python\n",
    "kalimat = 'Belajar python sangat Mudah'\n",
    "kapital = kalimat.upper()\n",
    "print(kapital)\n",
    "```\n",
    "Jika program tersebut dijalankan akan menghasilkan output <b>BELAJAR PYTHON SANGAT MUDAH</b>\n",
    "\n",
    "<h3>Lower</h3>\n",
    "Fungsi lower digunakan untuk mengubah string menjadi huruf kecil. Fungsi tersebut tidak memerlukan parameter/argumen \n",
    "\n",
    "```python\n",
    "kalimat = 'Belajar python sangat Mudah'\n",
    "lcase = kalimat.lower()\n",
    "print(lcase)\n",
    "```\n",
    "Jika program tersebut dijalankan akan menghasilkan output <b>belajar python sangat mudah</b>\n",
    "\n",
    "<h3>Find</h3>\n",
    "Fungsi find digunakan untuk mencari string untuk nilai tertentu dan mengembalikan posisi ditemukan \n",
    "\n",
    "```python\n",
    "kalimat = 'Belajar python sangat Mudah'\n",
    "cari_huruf_p = kalimat.find('p')\n",
    "print(cari_huruf_p)\n",
    "```\n",
    "Jika program tersebut dijalankan akan menghasilkan output <b>8</b> artinya huruf p ada di urutan ke 8. Perlu diingat bahwa posisi indeks dimulai dari angka 0\n",
    "\n",
    "<h1>Latihan</h1>\n",
    "1. Buatlah program untuk mengecek bahwa sebuah email termasuk valid atau tidak. Valid diartikan <b>True</b> dan tidak valid diartikan <b>False</b>\n",
    "Berikut contoh <i>test case</i> yang bisa digunakan sebagai acuan \n",
    "<ol>\n",
    "    <li>alunsujjada@gmailcom -> False</li>\n",
    "    <li>alunsujjada@gmail.com -> True</li>\n",
    "    <li>alun.sujjada@gmail.com -> False</li>\n",
    "    <li>alunsujjada.gmail.com -> False</li>\n",
    "    <li>alun.sujjada@gmailcom -> False</li>\n",
    "</ol>"
   ]
  },
  {
   "cell_type": "code",
   "execution_count": 16,
   "metadata": {
    "colab": {
     "base_uri": "https://localhost:8080/"
    },
    "executionInfo": {
     "elapsed": 317,
     "status": "ok",
     "timestamp": 1668140934041,
     "user": {
      "displayName": "Lupusmlbb",
      "userId": "18339227963392725119"
     },
     "user_tz": -420
    },
    "id": "EsXDbYSzn_2T",
    "outputId": "824ac92c-fd0d-4f86-ab91-8538771546cf"
   },
   "outputs": [
    {
     "name": "stdout",
     "output_type": "stream",
     "text": [
      "=====Menentukan Nilai True Atau False=====\n",
      "Masukan Email : farouq01@gmail.com\n",
      "farouq01@gmail.com  ->  True\n"
     ]
    }
   ],
   "source": [
    "#Code here\n",
    "print(\"=====Menentukan Nilai True Atau False=====\")\n",
    "email = input('Masukan Email : ')\n",
    "valid_email = '@gmail.com'\n",
    "if valid_email in email:\n",
    "    print(email, ' -> ', True)\n",
    "else:\n",
    "    print(email, ' -> ', False)"
   ]
  }
 ],
 "metadata": {
  "colab": {
   "provenance": [],
   "toc_visible": true
  },
  "kernelspec": {
   "display_name": "Python 3 (ipykernel)",
   "language": "python",
   "name": "python3"
  },
  "language_info": {
   "codemirror_mode": {
    "name": "ipython",
    "version": 3
   },
   "file_extension": ".py",
   "mimetype": "text/x-python",
   "name": "python",
   "nbconvert_exporter": "python",
   "pygments_lexer": "ipython3",
   "version": "3.9.12"
  }
 },
 "nbformat": 4,
 "nbformat_minor": 1
}
